{
 "cells": [
  {
   "cell_type": "code",
   "execution_count": 1,
   "metadata": {},
   "outputs": [],
   "source": [
    "import requests\n",
    "from bs4 import BeautifulSoup\n",
    "import csv"
   ]
  },
  {
   "cell_type": "code",
   "execution_count": null,
   "metadata": {},
   "outputs": [],
   "source": [
    "movie_list = []\n",
    "response1 = requests.get('https://en.wikipedia.org/wiki/List_of_Tamil_Actors')\n",
    "html_content = response1.content\n",
    "soup = BeautifulSoup(html_content, \"html.parser\")\n",
    "all_rows = soup.find_all(\"tr\")\n",
    "for row in all_rows[2:]:\n",
    "    cells = row.find_all(\"td\")\n",
    "    for cell in cells:\n",
    "        to = cell.find(\"a\")\n",
    "        name = cell.text.strip('\\n')\n",
    "\n",
    "        if to is not None and to.has_attr('href'):\n",
    "            movie_list.append([name, to['href']])\n",
    "            break\n",
    "movie_list"
   ]
  }
 ],
 "metadata": {
  "kernelspec": {
   "display_name": "Python 3",
   "language": "python",
   "name": "python3"
  },
  "language_info": {
   "codemirror_mode": {
    "name": "ipython",
    "version": 3
   },
   "file_extension": ".py",
   "mimetype": "text/x-python",
   "name": "python",
   "nbconvert_exporter": "python",
   "pygments_lexer": "ipython3",
   "version": "3.11.0"
  }
 },
 "nbformat": 4,
 "nbformat_minor": 2
}
